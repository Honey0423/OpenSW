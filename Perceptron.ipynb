{
  "nbformat": 4,
  "nbformat_minor": 0,
  "metadata": {
    "colab": {
      "provenance": [],
      "authorship_tag": "ABX9TyOltxZ3bk5zd9UWNFurF/f5",
      "include_colab_link": true
    },
    "kernelspec": {
      "name": "python3",
      "display_name": "Python 3"
    },
    "language_info": {
      "name": "python"
    }
  },
  "cells": [
    {
      "cell_type": "markdown",
      "metadata": {
        "id": "view-in-github",
        "colab_type": "text"
      },
      "source": [
        "<a href=\"https://colab.research.google.com/github/Honey0423/OpenSW/blob/main/Perceptron.ipynb\" target=\"_parent\"><img src=\"https://colab.research.google.com/assets/colab-badge.svg\" alt=\"Open In Colab\"/></a>"
      ]
    },
    {
      "cell_type": "code",
      "execution_count": 10,
      "metadata": {
        "colab": {
          "base_uri": "https://localhost:8080/"
        },
        "id": "fhqXV8tlqezj",
        "outputId": "af0c3745-6c55-4e1d-88fb-f557283ef4fc"
      },
      "outputs": [
        {
          "output_type": "stream",
          "name": "stdout",
          "text": [
            "0 1.2221813201904297\n",
            "1000 0.3522026836872101\n",
            "2000 0.2724582552909851\n",
            "3000 0.22116222977638245\n",
            "4000 0.1852436363697052\n",
            "5000 0.1588279902935028\n",
            "6000 0.13865278661251068\n",
            "7000 0.12278275936841965\n",
            "8000 0.11000162363052368\n",
            "9000 0.09950769692659378\n",
            "10000 0.09075174480676651\n",
            "11000 0.08334515988826752\n",
            "12000 0.07700575143098831\n",
            "13000 0.07152366638183594\n",
            "14000 0.06673997640609741\n",
            "15000 0.06253224611282349\n",
            "16000 0.0588047094643116\n",
            "17000 0.055481139570474625\n",
            "18000 0.05250079184770584\n",
            "19000 0.04981406778097153\n",
            "20000 0.04738050326704979\n",
            "tensor([[0.1017],\n",
            "        [0.9599],\n",
            "        [0.9596],\n",
            "        [0.9998]])\n",
            "tensor([[False],\n",
            "        [ True],\n",
            "        [ True],\n",
            "        [ True]])\n"
          ]
        }
      ],
      "source": [
        "import torch\n",
        "import torch.nn as nn\n",
        "\n",
        "device = 'cuda' if torch.cuda.is_available() else 'cpu'\n",
        "X = torch.FloatTensor([\n",
        "    [0,0],\n",
        "    [0,1],\n",
        "    [1,0],\n",
        "    [1,1]\n",
        "]).to(device)\n",
        "Y = torch.FloatTensor([\n",
        "    [0],[1],[1],[1]\n",
        "]).to(device)\n",
        "model = nn.Sequential(\n",
        "    nn.Linear(2,1,bias=True),\n",
        "    nn.Sigmoid()\n",
        ").to(device)\n",
        "loss_func = torch.nn.BCELoss().to(device)\n",
        "optimizer = torch.optim.SGD(model.parameters(),lr=0.01)\n",
        "for step in range(20001):\n",
        "  optimizer.zero_grad()\n",
        "  Y_hat = model(X)\n",
        "  loss = loss_func(Y_hat,Y)\n",
        "  loss.backward()\n",
        "  optimizer.step()\n",
        "\n",
        "  if step % 1000 == 0:\n",
        "    print(step,loss.item())\n",
        "\n",
        "with torch.no_grad():\n",
        "  model.eval()\n",
        "  inputs = torch.FloatTensor([\n",
        "      [0,0],\n",
        "      [0,1],\n",
        "      [1,0],\n",
        "      [1,1]\n",
        "  ])\n",
        "  outputs = model(inputs)\n",
        "  print(outputs)\n",
        "  print(outputs>0.5)\n",
        "\n"
      ]
    }
  ]
}